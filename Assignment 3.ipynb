{
 "cells": [
  {
   "cell_type": "markdown",
   "metadata": {},
   "source": [
    "# Task 1\n"
   ]
  },
  {
   "cell_type": "markdown",
   "metadata": {},
   "source": [
    "1.\n",
    "Write a function to compute 5/0 and use try/except to catch the exceptions."
   ]
  },
  {
   "cell_type": "code",
   "execution_count": 24,
   "metadata": {},
   "outputs": [
    {
     "name": "stdout",
     "output_type": "stream",
     "text": [
      "division by zero\n"
     ]
    }
   ],
   "source": [
    "def compute():\n",
    "        try:\n",
    "            5/0\n",
    "        except Exception as e:\n",
    "            print(e)\n",
    "       \n",
    "            \n",
    "compute()        "
   ]
  },
  {
   "cell_type": "markdown",
   "metadata": {},
   "source": [
    "2.\n",
    "Implement a Python program to generate all sentences where subject is in [\"Americans\",\n",
    "\"Indians\"] and verb is in [\"Play\", \"watch\"] and the object is in [\"Baseball\",\"cricket\"].\n",
    "Hint: Subject,Verb and Object should be declared in the program as shown below.\n",
    "subjects=[\"Americans \",\"Indians\"]\n",
    "verbs=[\"play\",\"watch\"]\n",
    "objects=[\"Baseball\",\"Cricket\"]"
   ]
  },
  {
   "cell_type": "code",
   "execution_count": 25,
   "metadata": {},
   "outputs": [
    {
     "name": "stdout",
     "output_type": "stream",
     "text": [
      "Americans play Baseball\n",
      "Americans play Cricket\n",
      "Americans watch Baseball\n",
      "Americans watch Cricket\n",
      "Indians play Baseball\n",
      "Indians play Cricket\n",
      "Indians watch Baseball\n",
      "Indians watch Cricket\n"
     ]
    }
   ],
   "source": [
    "def program():\n",
    "    subjects= [\"Americans \",\"Indians \"]\n",
    "    verbs= [\"play \",\"watch \"]\n",
    "    objects= [\"Baseball\",\"Cricket\"]\n",
    "    result = [ sub+verb+obj for sub in subjects for verb in verbs for obj in objects]\n",
    "    return result\n",
    "\n",
    "final_result = program()\n",
    "for item in final_result:\n",
    "    print(item)\n"
   ]
  },
  {
   "cell_type": "markdown",
   "metadata": {},
   "source": [
    "# Task 2\n"
   ]
  },
  {
   "cell_type": "markdown",
   "metadata": {},
   "source": [
    "1.\n",
    "Write a function so that the columns of the output matrix are powers of the input vector.\n",
    "The order of the powers is determined by the increasing boolean argument. Specifically, when\n",
    "increasing is False, the i-th output column is the input vector raised element-wise to the power\n",
    "of N - i - 1."
   ]
  },
  {
   "cell_type": "code",
   "execution_count": 27,
   "metadata": {},
   "outputs": [],
   "source": [
    "import numpy as np"
   ]
  },
  {
   "cell_type": "code",
   "execution_count": 30,
   "metadata": {},
   "outputs": [
    {
     "name": "stdout",
     "output_type": "stream",
     "text": [
      "------------OUTPUT-------------\n",
      "\n",
      "The input array is: [1 2 3 4 5] \n",
      "\n",
      "Number of columns in output matrix should be: 3 \n",
      "\n",
      "Vander matrix of the input array in decreasing order of powers:\n",
      "\n",
      " [[ 1  1  1]\n",
      " [ 4  2  1]\n",
      " [ 9  3  1]\n",
      " [16  4  1]\n",
      " [25  5  1]] \n",
      "\n",
      "Vander matrix of the input array in increasing order of powers:\n",
      "\n",
      " [[ 1  1  1]\n",
      " [ 1  2  4]\n",
      " [ 1  3  9]\n",
      " [ 1  4 16]\n",
      " [ 1  5 25]] \n",
      "\n"
     ]
    }
   ],
   "source": [
    "def gen_vander_matrix(ipvector, n, increasing=False):\n",
    "    \n",
    "    if not increasing:\n",
    "        op_matx = np.array([x**(n-i-1) for x in ipvector for i in range(n)]).reshape(ipvector.size,n)\n",
    "    elif increasing:\n",
    "        op_matx = np.array([x**i for x in ipvector for i in range(n)]).reshape(ipvector.size,n)\n",
    "    \n",
    "    return op_matx\n",
    "\n",
    "print(\"------------OUTPUT-------------\\n\")\n",
    "\n",
    "inputvector = np.array([1,2,3,4,5])\n",
    "no_col_opmat = 3\n",
    "op_matx_dec_order = gen_vander_matrix(inputvector,no_col_opmat,False)\n",
    "op_matx_inc_order = gen_vander_matrix(inputvector,no_col_opmat,True)\n",
    "\n",
    "print(\"The input array is:\",inputvector,\"\\n\")\n",
    "print(\"Number of columns in output matrix should be:\",no_col_opmat,\"\\n\")\n",
    "print(\"Vander matrix of the input array in decreasing order of powers:\\n\\n\",op_matx_dec_order,\"\\n\")\n",
    "print(\"Vander matrix of the input array in increasing order of powers:\\n\\n\",op_matx_inc_order,\"\\n\")\n",
    "\n"
   ]
  },
  {
   "cell_type": "code",
   "execution_count": null,
   "metadata": {},
   "outputs": [],
   "source": []
  }
 ],
 "metadata": {
  "kernelspec": {
   "display_name": "Python 3",
   "language": "python",
   "name": "python3"
  },
  "language_info": {
   "codemirror_mode": {
    "name": "ipython",
    "version": 3
   },
   "file_extension": ".py",
   "mimetype": "text/x-python",
   "name": "python",
   "nbconvert_exporter": "python",
   "pygments_lexer": "ipython3",
   "version": "3.7.4"
  }
 },
 "nbformat": 4,
 "nbformat_minor": 2
}
